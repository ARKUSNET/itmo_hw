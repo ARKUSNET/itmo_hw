{
 "cells": [
  {
   "cell_type": "markdown",
   "metadata": {},
   "source": [
    "Импортируем модули для работы с данными"
   ]
  },
  {
   "cell_type": "code",
   "execution_count": 135,
   "metadata": {},
   "outputs": [],
   "source": [
    "import requests\n",
    "import lxml\n",
    "\n",
    "from bs4 import BeautifulSoup\n",
    "import pandas as pd\n",
    "from tqdm import tqdm"
   ]
  },
  {
   "cell_type": "markdown",
   "metadata": {},
   "source": [
    "Базовая часть ссылки"
   ]
  },
  {
   "cell_type": "code",
   "execution_count": 136,
   "metadata": {},
   "outputs": [],
   "source": [
    "base_url = \"https://lifehacker.ru/topics/technology\""
   ]
  },
  {
   "cell_type": "markdown",
   "metadata": {},
   "source": [
    "Далее в цикле собираем ссылки на статьи со всех 10 страниц"
   ]
  },
  {
   "cell_type": "code",
   "execution_count": 137,
   "metadata": {},
   "outputs": [],
   "source": [
    "def remove_bad_url(raw_items):\n",
    "    parsed_urls = []\n",
    "    for item in raw_items:\n",
    "        url = item.get(\"href\")\n",
    "        if \"http\" not in url:\n",
    "            parsed_urls.append(url)\n",
    "    return parsed_urls\n",
    "\n",
    "\n",
    "def get_parsed_urls():\n",
    "    parsed_urls = []\n",
    "    for page_num in range(1, 11):\n",
    "        url = f\"{base_url}/?page{page_num}\"\n",
    "        response = requests.get(url)  # получаем контент page_num страницы\n",
    "        soup = BeautifulSoup(\n",
    "            response.text, \"lxml\"\n",
    "        )  # инициализируем объект bs4 и задаем парсер lxml\n",
    "        raw_items = soup.find_all(\"a\", \"lh-small-article-card__link\")\n",
    "        parsed_urls = remove_bad_url(raw_items)\n",
    "    return parsed_urls"
   ]
  },
  {
   "cell_type": "markdown",
   "metadata": {},
   "source": [
    "Для статей базовая часть ссылки изменилась"
   ]
  },
  {
   "cell_type": "code",
   "execution_count": 138,
   "metadata": {},
   "outputs": [],
   "source": [
    "base_url = \"https://lifehacker.ru\""
   ]
  },
  {
   "cell_type": "code",
   "execution_count": 139,
   "metadata": {},
   "outputs": [
    {
     "data": {
      "text/plain": [
       "['/kak-zharit-shashlyk/',\n",
       " '/top-smartfonov-v-nachale-2024/',\n",
       " '/chem-obrabotat-luk-pered-posadkoj/',\n",
       " '/muzhchiny-podvergalis-domashnemu-nasiliyu/',\n",
       " '/kak-vytashhit-kleshha/',\n",
       " '/samye-uspeshnye-filmy-2023/',\n",
       " '/pervye-otzyvy-na-furiosu/',\n",
       " '/oksid-marganca-i-zhizn-na-marse/',\n",
       " '/osnovnye-chuvstva-i-produktivnost/',\n",
       " '/prokachka-156/',\n",
       " '/atmosfera-venery-poteryala-vodu/',\n",
       " '/kak-kontrolirovat-rasxody/',\n",
       " '/riddik-furiya-s-vinom-dizelem-podtverzhden/',\n",
       " '/aksessuary-aliexpress-dlya-rabochego-stola/?erid=Kra2449mN',\n",
       " '/kak-vyvesti-lishnyuyu-zhidkost-iz-organizma/',\n",
       " '/poleznye-tovary-dlya-doma-aliexpress/?erid=Kra2449mN',\n",
       " '/xoroshie-nedavnie-rossijskie-filmy/',\n",
       " '/opros-kakimi-prilozheniyami-vy-polzuetes/',\n",
       " '/zachem-proveryat-rodinki/',\n",
       " '/10-samyx-populyarnyx-filmov-u-rossijskix-piratov-v-aprele/',\n",
       " '/oversharing/',\n",
       " '/slushaj-eto-prosto-54/?erid=LjN8KGAgK']"
      ]
     },
     "execution_count": 139,
     "metadata": {},
     "output_type": "execute_result"
    }
   ],
   "source": [
    "get_parsed_urls()"
   ]
  },
  {
   "cell_type": "code",
   "execution_count": 140,
   "metadata": {},
   "outputs": [
    {
     "name": "stderr",
     "output_type": "stream",
     "text": [
      "100%|██████████| 22/22 [00:07<00:00,  2.85it/s]\n"
     ]
    }
   ],
   "source": [
    "result = []\n",
    "for url in tqdm(get_parsed_urls()):\n",
    "    article = {}\n",
    "    article_url = f\"{base_url}{url}\"  # подставляем часть ссылки, ведущую материал\n",
    "    response = requests.get(article_url)\n",
    "    soup = BeautifulSoup(response.text, \"lxml\")\n",
    "    article[\"title\"] = soup.find(\n",
    "        \"h1\", class_=\"article-card__title\"\n",
    "    ).text  # Получаем текст заголовка из span в первом h1 с классом article-card__title\n",
    "    text_src = [\n",
    "        e.get_text()\n",
    "        for e in soup.find_all(\n",
    "            \"div\", \"single-article__post-content single-article__content-container\"\n",
    "        )\n",
    "    ]  # Получаем весь текст из div с классом single-article__post-content single-article__content-container\n",
    "    article[\"text\"] = \"\\n\".join(text_src)\n",
    "    result.append(article)"
   ]
  },
  {
   "cell_type": "code",
   "execution_count": 141,
   "metadata": {},
   "outputs": [
    {
     "data": {
      "text/html": [
       "<div>\n",
       "<style scoped>\n",
       "    .dataframe tbody tr th:only-of-type {\n",
       "        vertical-align: middle;\n",
       "    }\n",
       "\n",
       "    .dataframe tbody tr th {\n",
       "        vertical-align: top;\n",
       "    }\n",
       "\n",
       "    .dataframe thead th {\n",
       "        text-align: right;\n",
       "    }\n",
       "</style>\n",
       "<table border=\"1\" class=\"dataframe\">\n",
       "  <thead>\n",
       "    <tr style=\"text-align: right;\">\n",
       "      <th></th>\n",
       "      <th>title</th>\n",
       "      <th>text</th>\n",
       "    </tr>\n",
       "  </thead>\n",
       "  <tbody>\n",
       "    <tr>\n",
       "      <th>0</th>\n",
       "      <td>Как пожарить вкусный шашлык. Шеф-повар раскрывает все секреты</td>\n",
       "      <td>Какое мясо подойдёт для шашлыкаЗалог вкусного и сочного шашлыка — правильно подобранное и замаринованное мясо.Традиционный шашлык готовится из баранины. Однако у неё специфический запах, который не всем придётся по вкусу.Куриный шашлык наверняка понравится многим, потому что получается нежным и ароматным. Для него можно взять грудку или окорочка.Для шашлыка из говядины подходит толстый край на...</td>\n",
       "    </tr>\n",
       "    <tr>\n",
       "      <th>1</th>\n",
       "      <td>Названы самые продаваемые смартфоны в мире в первом квартале 2024 года</td>\n",
       "      <td>Исследовательская компания Counterpoint Research опубликовала список самых продаваемых смартфонов в мире в первом квартале 2024 года. Все места в нём снова разделили два бренда.Самым востребованным у покупателей оказался iPhone 15 Pro Max. Второе, третье и четвёртое места заняли iPhone 15, iPhone 15 Pro и iPhone 14 соответственно.Пятым стал Samsung Galaxy S24 Ultra, что делает его самым продав...</td>\n",
       "    </tr>\n",
       "    <tr>\n",
       "      <th>2</th>\n",
       "      <td>Чем обработать лук перед посадкой</td>\n",
       "      <td>Зачем обрабатывать лук перед посадкойПравильная подготовка лука-севка может повысить урожай. Как правило, обработанные луковки лучше противостоят заболеваниям, например ложной мучнистой росе и фузариозной гнили. А ещё севок, замоченный в дезинфицирующих растворах, становится «невкусным» для некоторых вредителей вроде луковых корневых клещей, трипсов и луковой мухи.Как и чем обработать лук пере...</td>\n",
       "    </tr>\n",
       "    <tr>\n",
       "      <th>3</th>\n",
       "      <td>«В меня летал стул»: мужчины рассказали, как подвергались домашнему насилию и абьюзу</td>\n",
       "      <td>На волне популярности мини-сериал «Оленёнок», в центре сюжета которого сталкинг и одержимость другим человеком, в Сети запустили откровенный тред о домашнем насилии и абьюзе, причём со стороны женщин. В комментариях многие мужчины рассказали о своих случаях, когда нездоровые отношения выливались в побои, угрозы и постоянное унижение.Это довольно тяжёлый тред. В нём немало жутких деталей. Мы вы...</td>\n",
       "    </tr>\n",
       "    <tr>\n",
       "      <th>4</th>\n",
       "      <td>Как вытащить клеща правильно</td>\n",
       "      <td>Почему лучше обратиться за помощьюЕсли есть возможность, идите к врачу, как только увидите присосавшегося клеща на теле. Доктор знает, как правильно вытащить паразита и обработать кожу.    Татьяна Лошкарева Заслуженный врач РФ, врач-инфекционист высшей квалификационной категории «Мединцентра».  Оказать помощь вам могут в ближайшем травмпункте. Отправляйтесь туда незамедлительно. Если не знаете...</td>\n",
       "    </tr>\n",
       "  </tbody>\n",
       "</table>\n",
       "</div>"
      ],
      "text/plain": [
       "                                                                                  title  \\\n",
       "0                         Как пожарить вкусный шашлык. Шеф-повар раскрывает все секреты   \n",
       "1                Названы самые продаваемые смартфоны в мире в первом квартале 2024 года   \n",
       "2                                                     Чем обработать лук перед посадкой   \n",
       "3  «В меня летал стул»: мужчины рассказали, как подвергались домашнему насилию и абьюзу   \n",
       "4                                                          Как вытащить клеща правильно   \n",
       "\n",
       "                                                                                                                                                                                                                                                                                                                                                                                                              text  \n",
       "0  Какое мясо подойдёт для шашлыкаЗалог вкусного и сочного шашлыка — правильно подобранное и замаринованное мясо.Традиционный шашлык готовится из баранины. Однако у неё специфический запах, который не всем придётся по вкусу.Куриный шашлык наверняка понравится многим, потому что получается нежным и ароматным. Для него можно взять грудку или окорочка.Для шашлыка из говядины подходит толстый край на...  \n",
       "1  Исследовательская компания Counterpoint Research опубликовала список самых продаваемых смартфонов в мире в первом квартале 2024 года. Все места в нём снова разделили два бренда.Самым востребованным у покупателей оказался iPhone 15 Pro Max. Второе, третье и четвёртое места заняли iPhone 15, iPhone 15 Pro и iPhone 14 соответственно.Пятым стал Samsung Galaxy S24 Ultra, что делает его самым продав...  \n",
       "2  Зачем обрабатывать лук перед посадкойПравильная подготовка лука-севка может повысить урожай. Как правило, обработанные луковки лучше противостоят заболеваниям, например ложной мучнистой росе и фузариозной гнили. А ещё севок, замоченный в дезинфицирующих растворах, становится «невкусным» для некоторых вредителей вроде луковых корневых клещей, трипсов и луковой мухи.Как и чем обработать лук пере...  \n",
       "3  На волне популярности мини-сериал «Оленёнок», в центре сюжета которого сталкинг и одержимость другим человеком, в Сети запустили откровенный тред о домашнем насилии и абьюзе, причём со стороны женщин. В комментариях многие мужчины рассказали о своих случаях, когда нездоровые отношения выливались в побои, угрозы и постоянное унижение.Это довольно тяжёлый тред. В нём немало жутких деталей. Мы вы...  \n",
       "4  Почему лучше обратиться за помощьюЕсли есть возможность, идите к врачу, как только увидите присосавшегося клеща на теле. Доктор знает, как правильно вытащить паразита и обработать кожу.    Татьяна Лошкарева Заслуженный врач РФ, врач-инфекционист высшей квалификационной категории «Мединцентра».  Оказать помощь вам могут в ближайшем травмпункте. Отправляйтесь туда незамедлительно. Если не знаете...  "
      ]
     },
     "execution_count": 141,
     "metadata": {},
     "output_type": "execute_result"
    }
   ],
   "source": [
    "pd.set_option(\"display.max_colwidth\", 400)\n",
    "\n",
    "\n",
    "data = pd.DataFrame(result)\n",
    "data.head()"
   ]
  }
 ],
 "metadata": {
  "kernelspec": {
   "display_name": "Python 3",
   "language": "python",
   "name": "python3"
  },
  "language_info": {
   "codemirror_mode": {
    "name": "ipython",
    "version": 3
   },
   "file_extension": ".py",
   "mimetype": "text/x-python",
   "name": "python",
   "nbconvert_exporter": "python",
   "pygments_lexer": "ipython3",
   "version": "3.11.5"
  }
 },
 "nbformat": 4,
 "nbformat_minor": 2
}
